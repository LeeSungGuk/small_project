{
 "cells": [
  {
   "cell_type": "code",
   "execution_count": 220,
   "metadata": {
    "collapsed": false
   },
   "outputs": [],
   "source": [
    "import pandas as pd\n",
    "import seaborn as sns\n",
    "import numpy as np\n",
    "import matplotlib.pylab as plt\n",
    "import statsmodels.api as sm\n",
    "import statsmodels.formula.api as smf\n",
    "\n",
    "from sklearn.decomposition import PCA\n",
    "from sklearn.preprocessing import scale, robust_scale, minmax_scale, maxabs_scale\n",
    "from sklearn.linear_model import LinearRegression\n"
   ]
  },
  {
   "cell_type": "code",
   "execution_count": null,
   "metadata": {
    "collapsed": false
   },
   "outputs": [],
   "source": [
    "read_file = pd.read_excel('./resource/teamproject_data_final2.xlsx', sheetname=4)\n",
    "\n",
    "df_scale = scale(read_file)\n",
    "df_data = pd.DataFrame(data = df_scale, columns = read_file.columns)\n",
    "df_PCA = pca(14).fit_transform(df_data.ix[:, :-1])\n",
    "print(df_PCA.explained_variance_ratio_)\n",
    "#print(k)"
   ]
  },
  {
   "cell_type": "code",
   "execution_count": null,
   "metadata": {
    "collapsed": true
   },
   "outputs": [],
   "source": [
    "df_data1 = pd.DataFrame(data = df_PCA, columns = read_file.columns[0:14])\n",
    "df_cons = sm.add_constant(df_data1) # acciendt 값은 포함안됨\n",
    "df_y    = pd.DataFrame(data = read_file['accident/day'], columns = ['accident/day'])    \n"
   ]
  },
  {
   "cell_type": "code",
   "execution_count": 209,
   "metadata": {
    "collapsed": false
   },
   "outputs": [
    {
     "name": "stdout",
     "output_type": "stream",
     "text": [
      "                            OLS Regression Results                            \n",
      "==============================================================================\n",
      "Dep. Variable:           accident/day   R-squared:                       0.526\n",
      "Model:                            OLS   Adj. R-squared:                  0.445\n",
      "Method:                 Least Squares   F-statistic:                     6.431\n",
      "Date:                Tue, 25 Oct 2016   Prob (F-statistic):           1.74e-08\n",
      "Time:                        21:49:44   Log-Likelihood:                -322.77\n",
      "No. Observations:                  96   AIC:                             675.5\n",
      "Df Residuals:                      81   BIC:                             714.0\n",
      "Df Model:                          14                                         \n",
      "Covariance Type:            nonrobust                                         \n",
      "=====================================================================================\n",
      "                        coef    std err          t      P>|t|      [95.0% Conf. Int.]\n",
      "-------------------------------------------------------------------------------------\n",
      "const               113.1440      0.776    145.860      0.000       111.601   114.687\n",
      "LPG/day              -0.0207      0.304     -0.068      0.946        -0.625     0.584\n",
      "temp                 -2.9739      0.381     -7.804      0.000        -3.732    -2.216\n",
      "rainfall/day         -1.4086      0.651     -2.162      0.034        -2.705    -0.112\n",
      "humidity              0.6993      0.805      0.869      0.387        -0.902     2.301\n",
      "dew_point             0.5746      1.256      0.457      0.649        -1.925     3.074\n",
      "wind_spd_max         -3.3223      1.531     -2.170      0.033        -6.369    -0.276\n",
      "weather(5)           -1.5741      1.766     -0.891      0.375        -5.087     1.939\n",
      "weather(weighted)     4.5584      2.408      1.893      0.062        -0.232     9.349\n",
      "population(0~19)     -5.3499      4.008     -1.335      0.186       -13.324     2.624\n",
      "population(20~59)     2.9830      5.999      0.497      0.620        -8.953    14.919\n",
      "population(60~)      -5.8362     10.707     -0.545      0.587       -27.139    15.467\n",
      "truck               -16.3320     16.738     -0.976      0.332       -49.634    16.970\n",
      "special_car          98.9525     29.776      3.323      0.001        39.707   158.198\n",
      "bicycle              16.4852     59.036      0.279      0.781      -100.978   133.948\n",
      "==============================================================================\n",
      "Omnibus:                        0.641   Durbin-Watson:                   1.323\n",
      "Prob(Omnibus):                  0.726   Jarque-Bera (JB):                0.573\n",
      "Skew:                          -0.185   Prob(JB):                        0.751\n",
      "Kurtosis:                       2.923   Cond. No.                         194.\n",
      "==============================================================================\n",
      "\n",
      "Warnings:\n",
      "[1] Standard Errors assume that the covariance matrix of the errors is correctly specified.\n"
     ]
    }
   ],
   "source": [
    "#model_diabetes2 = sm.OLS(df_diabetes.ix[:, -1], df_diabetes.ix[:, :-1])\n",
    "\n",
    "model = sm.OLS(df_y, df_cons)\n",
    "result_model = model.fit()\n",
    "print(result_model.summary())"
   ]
  },
  {
   "cell_type": "code",
   "execution_count": null,
   "metadata": {
    "collapsed": false
   },
   "outputs": [],
   "source": []
  },
  {
   "cell_type": "code",
   "execution_count": null,
   "metadata": {
    "collapsed": true
   },
   "outputs": [],
   "source": []
  },
  {
   "cell_type": "code",
   "execution_count": null,
   "metadata": {
    "collapsed": true
   },
   "outputs": [],
   "source": []
  }
 ],
 "metadata": {
  "kernelspec": {
   "display_name": "Python 2",
   "language": "python",
   "name": "python2"
  },
  "language_info": {
   "codemirror_mode": {
    "name": "ipython",
    "version": 2
   },
   "file_extension": ".py",
   "mimetype": "text/x-python",
   "name": "python",
   "nbconvert_exporter": "python",
   "pygments_lexer": "ipython2",
   "version": "2.7.12"
  }
 },
 "nbformat": 4,
 "nbformat_minor": 1
}
